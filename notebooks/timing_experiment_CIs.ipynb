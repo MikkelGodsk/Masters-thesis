{
 "cells": [
  {
   "cell_type": "markdown",
   "metadata": {},
   "source": [
    "Requires you to have run the timing experiment `jobscripts/memory_efficiency/time_test_all.sh`"
   ]
  },
  {
   "cell_type": "code",
   "execution_count": 40,
   "metadata": {},
   "outputs": [],
   "source": [
    "import os\n",
    "\n",
    "logging_dir = '/work3/s184399/msc/logs/'\n",
    "result_dirs = list(filter(lambda x: ('time_test' in x) and (len(os.listdir(os.path.join(logging_dir, x))) > 0), os.listdir(logging_dir)))\n",
    "result_files = list([list(filter(lambda x: 'time_test' in x, os.listdir(os.path.join(logging_dir, d)))) for d in result_dirs])\n",
    "result_files = list(map(lambda x: x[0], result_files))"
   ]
  },
  {
   "cell_type": "code",
   "execution_count": 41,
   "metadata": {},
   "outputs": [],
   "source": [
    "import numpy as np\n",
    "\n",
    "def bootstrap_CI(p, alpha=0.05, k=2000, n_decimals=0):\n",
    "  \"\"\"\n",
    "    Computes the confidence interval of the mean using bootstrapping.\n",
    "    Here the confidence interval is the 100*(1-alpha) central CI, from percentile 100*(alpha/2) to 100*(1-alpha/2) rounded to broadest interval when picking the indices.\n",
    "    Line Clemmensen suggests picking k (number of repeats) to 1000 or 2000 for this tasks, so I do this.\n",
    "  \"\"\"\n",
    "  assert isinstance(p, np.ndarray)\n",
    "  assert p.ndim == 1\n",
    "  N = len(p)\n",
    "  bootstraps = np.random.choice(p, (k,N), replace=True)\n",
    "  ci_lower = alpha/2.\n",
    "  ci_upper = 1.-(alpha/2.)\n",
    "  idxs = [\n",
    "    int(np.floor(k*ci_lower)),\n",
    "    int(np.ceil(k*ci_upper))\n",
    "  ]\n",
    "  CI = np.sort(np.mean(bootstraps, axis=-1))[idxs]     # Sorts lowest to highest\n",
    "  assert CI[0] < CI[1]  # To be on the safe side...\n",
    "  CI = [f\"{c:.{n_decimals}f}s\" for c in CI]\n",
    "  return CI, N    # Returns CI and support (N)"
   ]
  },
  {
   "cell_type": "code",
   "execution_count": 42,
   "metadata": {},
   "outputs": [
    {
     "name": "stdout",
     "output_type": "stream",
     "text": [
      "Llama-2-7b-hf_MEBP_sgd: ['35.74s', '35.98s']\n",
      "opt-125m_adamw_torch: ['2.63s', '2.64s']\n",
      "opt-125m_sgd: ['1.08s', '1.09s']\n",
      "Llama-2-7b-hf_sgd: ['38.59s', '39.44s']\n",
      "Llama-2-7b-hf_QLoRA_adamw_torch: ['5.57s', '5.69s']\n",
      "opt-125m_MEBP_adam: ['1.32s', '1.33s']\n",
      "opt-125m_MEBP_sgd: ['1.17s', '1.19s']\n",
      "opt-125m_QLoRA_adamw_torch: ['0.87s', '0.88s']\n"
     ]
    }
   ],
   "source": [
    "import numpy as np\n",
    "import matplotlib.pyplot as plt\n",
    "\n",
    "for i in range(len(result_dirs)):\n",
    "    times = np.loadtxt(os.path.join(logging_dir, result_dirs[i], result_files[i]), delimiter=',', skiprows=1)\n",
    "    print(f\"{result_files[i].replace('time_test_','').replace('.txt','')}: {bootstrap_CI(times[1:], n_decimals=2)[0]}\")"
   ]
  },
  {
   "cell_type": "code",
   "execution_count": 44,
   "metadata": {},
   "outputs": [
    {
     "name": "stdout",
     "output_type": "stream",
     "text": [
      "Llama-2-7b-hf_MEBP_sgd: 35.85602824298703\n",
      "opt-125m_adamw_torch: 2.632873214021021\n",
      "opt-125m_sgd: 1.0848106097201913\n",
      "Llama-2-7b-hf_sgd: 39.01320312947643\n",
      "Llama-2-7b-hf_QLoRA_adamw_torch: 5.616802741070183\n",
      "opt-125m_MEBP_adam: 1.323660736181298\n",
      "opt-125m_MEBP_sgd: 1.1777102606637138\n",
      "opt-125m_QLoRA_adamw_torch: 0.8773686812848461\n"
     ]
    }
   ],
   "source": [
    "import numpy as np\n",
    "import matplotlib.pyplot as plt\n",
    "\n",
    "for i in range(len(result_dirs)):\n",
    "    times = np.loadtxt(os.path.join(logging_dir, result_dirs[i], result_files[i]), delimiter=',', skiprows=1)\n",
    "    print(f\"{result_files[i].replace('time_test_','').replace('.txt','')}: {np.mean(times[1:])}\")"
   ]
  }
 ],
 "metadata": {
  "kernelspec": {
   "display_name": "base",
   "language": "python",
   "name": "python3"
  },
  "language_info": {
   "codemirror_mode": {
    "name": "ipython",
    "version": 3
   },
   "file_extension": ".py",
   "mimetype": "text/x-python",
   "name": "python",
   "nbconvert_exporter": "python",
   "pygments_lexer": "ipython3",
   "version": "3.11.4"
  }
 },
 "nbformat": 4,
 "nbformat_minor": 2
}
