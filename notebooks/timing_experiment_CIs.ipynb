{
 "cells": [
  {
   "cell_type": "markdown",
   "metadata": {},
   "source": [
    "Requires you to have run the timing experiment `jobscripts/memory_efficiency/time_test_all.sh`"
   ]
  },
  {
   "cell_type": "code",
   "execution_count": 1,
   "metadata": {},
   "outputs": [],
   "source": [
    "import os\n",
    "\n",
    "logging_dir = '/work3/s184399/msc/logs/'\n",
    "result_dirs = list(filter(lambda x: ('time_test' in x) and (len(os.listdir(os.path.join(logging_dir, x))) > 0), os.listdir(logging_dir)))\n",
    "result_files = list([list(filter(lambda x: 'time_test' in x, os.listdir(os.path.join(logging_dir, d)))) for d in result_dirs])\n",
    "result_files = list(map(lambda x: x[0], result_files))"
   ]
  },
  {
   "cell_type": "code",
   "execution_count": 2,
   "metadata": {},
   "outputs": [],
   "source": [
    "import numpy as np\n",
    "\n",
    "def bootstrap_CI(p, alpha=0.05, k=2000, n_decimals=0):\n",
    "  \"\"\"\n",
    "    Computes the confidence interval of the mean using bootstrapping.\n",
    "    Here the confidence interval is the 100*(1-alpha) central CI, from percentile 100*(alpha/2) to 100*(1-alpha/2) rounded to broadest interval when picking the indices.\n",
    "    Line Clemmensen suggests picking k (number of repeats) to 1000 or 2000 for this tasks, so I do this.\n",
    "  \"\"\"\n",
    "  assert isinstance(p, np.ndarray)\n",
    "  assert p.ndim == 1\n",
    "  N = len(p)\n",
    "  bootstraps = np.random.choice(p, (k,N), replace=True)\n",
    "  ci_lower = alpha/2.\n",
    "  ci_upper = 1.-(alpha/2.)\n",
    "  idxs = [\n",
    "    int(np.floor(k*ci_lower)),\n",
    "    int(np.ceil(k*ci_upper))\n",
    "  ]\n",
    "  CI = np.sort(np.mean(bootstraps, axis=-1))[idxs]     # Sorts lowest to highest\n",
    "  assert CI[0] < CI[1]  # To be on the safe side...\n",
    "  CI = [f\"{c:.{n_decimals}f}s\" for c in CI]\n",
    "  return CI, N    # Returns CI and support (N)"
   ]
  },
  {
   "cell_type": "code",
   "execution_count": 4,
   "metadata": {},
   "outputs": [
    {
     "name": "stdout",
     "output_type": "stream",
     "text": [
      "opt-125m_adamw_torch: ['3.02s', '3.14s']\n",
      "opt-125m_MEBP_adamw_torch: ['1.35s', '1.44s']\n",
      "Llama-2-7b-hf_sgd: ['36.97s', '37.52s']\n",
      "opt-125m_QLoRA_adamw_torch: ['0.99s', '1.00s']\n",
      "opt-125m_MEBP_sgd: ['1.37s', '1.40s']\n",
      "Llama-2-7b-hf_QLoRA_adamw_torch: ['5.79s', '5.91s']\n",
      "Llama-2-7b-hf_MEBP_sgd: ['36.72s', '37.37s']\n",
      "opt-125m_sgd: ['1.33s', '1.38s']\n"
     ]
    }
   ],
   "source": [
    "import numpy as np\n",
    "import matplotlib.pyplot as plt\n",
    "\n",
    "for i in range(len(result_dirs)):\n",
    "    times = np.loadtxt(os.path.join(logging_dir, result_dirs[i], result_files[i]), delimiter=',', skiprows=1)\n",
    "    print(f\"{result_files[i].replace('time_test_','').replace('.txt','')}: {bootstrap_CI(times, n_decimals=2)[0]}\")"
   ]
  },
  {
   "cell_type": "code",
   "execution_count": 5,
   "metadata": {},
   "outputs": [
    {
     "name": "stdout",
     "output_type": "stream",
     "text": [
      "opt-125m_adamw_torch: 3.0701682712092544\n",
      "opt-125m_MEBP_adamw_torch: 1.388477238741788\n",
      "Llama-2-7b-hf_sgd: 37.23242569210554\n",
      "opt-125m_QLoRA_adamw_torch: 0.9911088269166272\n",
      "opt-125m_MEBP_sgd: 1.3811171849568684\n",
      "Llama-2-7b-hf_QLoRA_adamw_torch: 5.847253741640033\n",
      "Llama-2-7b-hf_MEBP_sgd: 37.032277165037215\n",
      "opt-125m_sgd: 1.3525888173267095\n"
     ]
    }
   ],
   "source": [
    "import numpy as np\n",
    "import matplotlib.pyplot as plt\n",
    "\n",
    "for i in range(len(result_dirs)):\n",
    "    times = np.loadtxt(os.path.join(logging_dir, result_dirs[i], result_files[i]), delimiter=',', skiprows=1)\n",
    "    print(f\"{result_files[i].replace('time_test_','').replace('.txt','')}: {np.mean(times)}\")"
   ]
  },
  {
   "cell_type": "code",
   "execution_count": null,
   "metadata": {},
   "outputs": [],
   "source": []
  }
 ],
 "metadata": {
  "kernelspec": {
   "display_name": "base",
   "language": "python",
   "name": "python3"
  },
  "language_info": {
   "codemirror_mode": {
    "name": "ipython",
    "version": 3
   },
   "file_extension": ".py",
   "mimetype": "text/x-python",
   "name": "python",
   "nbconvert_exporter": "python",
   "pygments_lexer": "ipython3",
   "version": "3.1.-1"
  }
 },
 "nbformat": 4,
 "nbformat_minor": 2
}
