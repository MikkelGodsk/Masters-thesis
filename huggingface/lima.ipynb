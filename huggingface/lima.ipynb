{
 "cells": [
  {
   "cell_type": "code",
   "execution_count": 4,
   "metadata": {},
   "outputs": [
    {
     "name": "stderr",
     "output_type": "stream",
     "text": [
      "Using the latest cached version of the dataset since GAIR/lima couldn't be found on the Hugging Face Hub\n",
      "WARNING:datasets.load:Using the latest cached version of the dataset since GAIR/lima couldn't be found on the Hugging Face Hub\n",
      "Found the latest cached dataset configuration 'plain_text' at /zhome/18/7/137746/.cache/huggingface/datasets/GAIR___lima/plain_text/0.0.1/68958e98267f5fb4a52a03ebcdae4ae59213fa7c (last modified on Fri Mar  1 11:09:21 2024).\n",
      "WARNING:datasets.packaged_modules.cache.cache:Found the latest cached dataset configuration 'plain_text' at /zhome/18/7/137746/.cache/huggingface/datasets/GAIR___lima/plain_text/0.0.1/68958e98267f5fb4a52a03ebcdae4ae59213fa7c (last modified on Fri Mar  1 11:09:21 2024).\n",
      "WARNING:accelerate.utils.other:Detected kernel version 5.4.268, which is below the recommended minimum of 5.5.0; this can cause the process to hang. It is recommended to upgrade the kernel to the minimum version or higher.\n"
     ]
    },
    {
     "name": "stdout",
     "output_type": "stream",
     "text": [
      "\n",
      "\n",
      "Dataloader\n",
      "{'input_ids': tensor([    2, 48134,  3861,  ...,     1,     1,     1]), 'attention_mask': tensor([1, 1, 1,  ..., 0, 0, 0]), 'labels': tensor([-100, -100, -100,  ..., -100, -100, -100])}\n",
      "\n",
      "\n",
      "--------\n",
      "\n",
      "\n",
      " Setting isBodyHtml to true allows you to use HTML tags in the message body:\n",
      "```\n",
      "msg = new MailMessage(\"xxxx@gmail.com\",\n",
      "                \"yyyy@gmail.com\", \"Message from PSSP System\",\n",
      "                \"This email sent by the PSSP system<br />\" +\n",
      "                \"<b>this is bold text!</b>\");\n",
      "\n",
      "msg.IsBodyHtml = true;\n",
      "```\n",
      "\n",
      "\n",
      "Data collator\n",
      "</s>### Human: How to send HTML-formatted email in C#?### Assistant: Setting isBodyHtml to true allows you to use HTML tags in the message body:\n",
      "```\n",
      "msg = new MailMessage(\"xxxx@gmail.com\",\n",
      "                \"yyyy@gmail.com\", \"Message from PSSP System\",\n",
      "                \"This email sent by the PSSP system<br />\" +\n",
      "                \"<b>this is bold text!</b>\");\n",
      "\n",
      "msg.IsBodyHtml = true;\n",
      "```<pad><pad><pad><pad><pad><pad><pad><pad><pad><pad><pad><pad><pad><pad><pad><pad><pad><pad><pad><pad><pad><pad><pad><pad><pad><pad><pad><pad><pad><pad><pad><pad><pad><pad><pad><pad><pad><pad><pad><pad><pad><pad><pad><pad><pad><pad><pad><pad><pad><pad><pad><pad><pad><pad><pad><pad><pad><pad><pad><pad><pad><pad><pad><pad><pad><pad><pad><pad><pad><pad><pad><pad><pad><pad><pad><pad><pad><pad><pad><pad><pad><pad><pad><pad><pad><pad><pad><pad><pad><pad><pad><pad><pad><pad><pad><pad><pad><pad><pad><pad><pad><pad><pad><pad><pad><pad><pad><pad><pad><pad><pad><pad><pad><pad><pad><pad><pad><pad><pad><pad><pad><pad><pad><pad><pad><pad><pad><pad><pad><pad><pad><pad><pad><pad><pad><pad><pad><pad><pad><pad><pad><pad><pad><pad><pad><pad><pad><pad><pad><pad><pad><pad><pad><pad><pad><pad><pad><pad><pad><pad><pad><pad><pad><pad><pad><pad><pad><pad><pad><pad><pad><pad><pad><pad><pad><pad><pad><pad><pad><pad><pad><pad><pad><pad><pad><pad><pad><pad><pad><pad><pad><pad><pad><pad><pad><pad><pad><pad><pad><pad><pad><pad><pad><pad><pad><pad><pad><pad><pad><pad><pad><pad><pad><pad><pad><pad><pad><pad><pad><pad><pad><pad><pad><pad><pad><pad><pad><pad><pad><pad><pad><pad><pad><pad><pad><pad><pad><pad><pad><pad><pad><pad><pad><pad><pad><pad><pad><pad><pad><pad><pad><pad><pad><pad><pad><pad><pad><pad><pad><pad><pad><pad><pad><pad><pad><pad><pad><pad><pad><pad><pad><pad><pad><pad><pad><pad><pad><pad><pad><pad><pad><pad><pad><pad><pad><pad><pad><pad><pad><pad><pad><pad><pad><pad><pad><pad><pad><pad><pad><pad><pad><pad><pad><pad><pad><pad><pad><pad><pad><pad><pad><pad><pad><pad><pad><pad><pad><pad><pad><pad><pad><pad><pad><pad><pad><pad><pad><pad><pad><pad><pad><pad><pad><pad><pad><pad><pad><pad><pad><pad><pad><pad><pad><pad><pad><pad><pad><pad><pad><pad><pad><pad><pad><pad><pad><pad><pad><pad><pad><pad><pad><pad><pad><pad><pad><pad><pad><pad><pad><pad><pad><pad><pad><pad><pad><pad><pad><pad><pad><pad><pad><pad><pad><pad><pad><pad><pad><pad><pad><pad><pad><pad><pad><pad><pad><pad><pad><pad><pad><pad><pad><pad><pad><pad><pad><pad><pad><pad><pad><pad><pad><pad><pad><pad><pad><pad><pad><pad><pad><pad><pad><pad><pad><pad><pad><pad><pad><pad><pad><pad><pad><pad><pad><pad><pad><pad><pad><pad><pad><pad><pad><pad><pad><pad><pad><pad><pad><pad><pad><pad><pad><pad><pad><pad><pad><pad><pad><pad><pad><pad><pad><pad><pad><pad><pad><pad><pad><pad><pad><pad><pad><pad><pad><pad><pad><pad><pad><pad><pad><pad><pad><pad><pad><pad><pad><pad><pad><pad><pad><pad><pad><pad><pad><pad><pad><pad><pad><pad><pad><pad><pad><pad><pad><pad><pad><pad><pad><pad><pad><pad><pad><pad><pad><pad><pad><pad><pad><pad><pad><pad><pad><pad><pad><pad><pad><pad><pad><pad><pad><pad><pad><pad><pad><pad><pad><pad><pad><pad><pad><pad><pad><pad><pad><pad><pad><pad><pad><pad><pad><pad><pad><pad><pad><pad><pad><pad><pad><pad><pad><pad><pad><pad><pad><pad><pad><pad><pad><pad><pad><pad><pad><pad><pad><pad><pad><pad><pad><pad><pad><pad><pad><pad><pad><pad><pad><pad><pad><pad><pad><pad><pad><pad><pad><pad><pad><pad><pad><pad><pad><pad><pad><pad><pad><pad><pad><pad><pad><pad><pad><pad><pad><pad><pad><pad><pad><pad><pad><pad><pad><pad><pad><pad><pad><pad><pad><pad><pad><pad><pad><pad><pad><pad><pad><pad><pad><pad><pad><pad><pad><pad><pad><pad><pad><pad><pad><pad><pad><pad><pad><pad><pad><pad><pad><pad><pad><pad><pad><pad><pad><pad><pad><pad><pad><pad><pad><pad><pad><pad><pad><pad><pad><pad><pad><pad><pad><pad><pad><pad><pad><pad><pad><pad><pad><pad><pad><pad><pad><pad><pad><pad><pad><pad><pad><pad><pad><pad><pad><pad><pad><pad><pad><pad><pad><pad><pad><pad><pad><pad><pad><pad><pad><pad><pad><pad><pad><pad><pad><pad><pad><pad><pad><pad><pad><pad><pad><pad><pad><pad><pad><pad><pad><pad><pad><pad><pad><pad><pad><pad><pad><pad><pad><pad><pad><pad><pad><pad><pad><pad><pad><pad><pad><pad><pad><pad><pad><pad><pad><pad><pad><pad><pad><pad><pad><pad><pad><pad><pad><pad><pad><pad><pad><pad><pad><pad><pad><pad><pad><pad><pad><pad><pad><pad><pad><pad><pad><pad><pad><pad><pad><pad><pad><pad><pad><pad><pad><pad><pad><pad><pad><pad><pad><pad><pad><pad><pad><pad><pad><pad><pad><pad><pad><pad><pad><pad><pad><pad><pad><pad><pad><pad><pad><pad><pad><pad><pad><pad><pad><pad><pad><pad><pad><pad><pad><pad><pad><pad><pad><pad><pad><pad><pad><pad><pad><pad><pad><pad><pad><pad><pad><pad><pad><pad><pad><pad><pad><pad><pad><pad><pad><pad><pad><pad><pad><pad><pad><pad><pad><pad>\n",
      "\n",
      "\n",
      "--------\n",
      "\n",
      "\n",
      " Setting isBodyHtml to true allows you to use HTML tags in the message body:\n",
      "```\n",
      "msg = new MailMessage(\"xxxx@gmail.com\",\n",
      "                \"yyyy@gmail.com\", \"Message from PSSP System\",\n",
      "                \"This email sent by the PSSP system<br />\" +\n",
      "                \"<b>this is bold text!</b>\");\n",
      "\n",
      "msg.IsBodyHtml = true;\n",
      "```\n"
     ]
    }
   ],
   "source": [
    "from transformers import AutoTokenizer, AutoModelForCausalLM\n",
    "from transformers import TrainingArguments\n",
    "from transformers.integrations import WandbCallback\n",
    "from trl.trainer import DataCollatorForCompletionOnlyLM\n",
    "from trl import SFTTrainer\n",
    "from datasets import load_dataset, Dataset\n",
    "import torch\n",
    "import wandb\n",
    "import numpy as np\n",
    "import os\n",
    "model_name = \"facebook/opt-125m\"   # Small enough to do fairly fast generation on CPU (0.8s per small sentence) => Might be good for development, debugging and testing...\n",
    "dataset_name = \"GAIR/lima\"\n",
    "test=False\n",
    "\n",
    "\n",
    "device = \"cuda\" if torch.cuda.is_available() else \"cpu\"\n",
    "model = AutoModelForCausalLM.from_pretrained(model_name).to(device)\n",
    "tokenizer = AutoTokenizer.from_pretrained(model_name)\n",
    "ds = load_dataset(dataset_name, 'plain_text')\n",
    "\n",
    "# Dataset setup\n",
    "## Data collator: To tell the trainer how to split and mask the dataset (in teacher forcing)\n",
    "instruction_template = \"### Human:\"\n",
    "response_template = \"### Assistant:\"\n",
    "collator = DataCollatorForCompletionOnlyLM(instruction_template=instruction_template, response_template=response_template, tokenizer=tokenizer, mlm=False)\n",
    "    # DataCollatorForCompletionOnlyLM finds the instruction template (by looping through the tokens - as we could easily implement ourselves) and cuts. Then it cuts again after the assistant template.\n",
    "    # The cuts are, however, not made in the input_ids... Here the model is being given the answers too.... But the labels are set to -100 for everything until the answer begins, making the loss function ignore them...\n",
    "    # Hence it implements teacher forcing when trained....\n",
    "    # Furthermore, it seems that the trainer's dataloader calls its DataCollatorForCompletionOnlyLM.torch_call method either during dataset building or during fetching\n",
    "\n",
    "## Then pre-process the dataset\n",
    "def process_ds(ds):\n",
    "    def aux(example):\n",
    "        x = example[\"conversations\"]\n",
    "        assert len(x) == 2\n",
    "        #return {\"prompt\": x[0], \"completion\": x[1]}\n",
    "        return {'text': f\"{instruction_template} {x[0]}{response_template} {x[1]}\"}\n",
    "    \n",
    "    return ds.filter(\n",
    "        lambda x: x[\"source\"] != \"multi_turn\"    # We only want the instruction tuning bit\n",
    "    ).map(\n",
    "        aux, remove_columns=[\"conversations\", \"source\"]\n",
    "    )\n",
    "\n",
    "train_ds = process_ds(ds[\"train\"]).train_test_split(train_size=1 if test else 0.8)   # Test size can be given as fraction or absolute number.... Also useful for testing.\n",
    "train_split, val_split = train_ds[\"train\"], train_ds[\"test\"]\n",
    "eval_ds = ds[\"test\"][\"conversations\"]\n",
    "len_eval = len(eval_ds)\n",
    "len_train_split = len(train_split)\n",
    "\n",
    "# Setup trainer\n",
    "training_args = TrainingArguments(\n",
    "    num_train_epochs=200 if test else 3,\n",
    "    per_device_train_batch_size=1 if test else 16,\n",
    "    lr_scheduler_type=\"cosine\",\n",
    "    gradient_accumulation_steps=1,\n",
    "    gradient_checkpointing=True,\n",
    "    logging_steps=25,\n",
    "    do_train=True,\n",
    "    output_dir=\"/work3/s184399/checkpoints/lima-opt-125m\",\n",
    "    logging_dir=\"/work3/s184399/logs/lima-opt-125m\",\n",
    "    overwrite_output_dir=True,\n",
    "    report_to=\"wandb\",\n",
    "    run_name=\"opt-125m code test\" if test else \"finetune-opt-125m\",\n",
    ")\n",
    "trainer = SFTTrainer(\n",
    "    model=model,\n",
    "    tokenizer=tokenizer,\n",
    "    data_collator=collator,\n",
    "    dataset_text_field=\"text\",\n",
    "    args=training_args,\n",
    "    train_dataset=train_split, #train_ds,\n",
    "    eval_dataset=val_split,\n",
    "    max_seq_length=1024,\n",
    ")\n",
    "print(\"\\n\\nDataloader\")\n",
    "example = next(iter(trainer.get_train_dataloader()))   # Evidently calls the data collators `.torch_call` during fetching. (There's an issue with \"Could not find response key `### Assistant:` \" which disappears when commenting out this line).\n",
    "example = {k:v[0] for k,v in example.items()}\n",
    "print(example)   # The labels are fucked up, but it seems the collator will not fix it (after calling?... What on earth's going on here??)\n",
    "print(\"\\n\\n--------\\n\\n\")\n",
    "print(trainer.tokenizer.decode(example['labels'][example['labels']!=-100]))\n",
    "\n",
    "\n",
    "print(\"\\n\\nData collator\")\n",
    "### Manually testing the data collator\n",
    "ex = trainer.data_collator.torch_call([example['input_ids']])\n",
    "tokens = ex['input_ids'][0]\n",
    "labels = ex['labels'][0]\n",
    "\n",
    "print(trainer.tokenizer.decode(tokens))\n",
    "print(\"\\n\\n--------\\n\\n\")\n",
    "print(trainer.tokenizer.decode(labels[labels!=-100]))"
   ]
  },
  {
   "cell_type": "code",
   "execution_count": 9,
   "metadata": {},
   "outputs": [
    {
     "data": {
      "text/plain": [
       "'</s> How to send HTML-formatted email in C#?'"
      ]
     },
     "execution_count": 9,
     "metadata": {},
     "output_type": "execute_result"
    }
   ],
   "source": [
    "s = trainer.tokenizer.decode(tokens)\n",
    "s.split(response_template)[0].replace(instruction_template, '')"
   ]
  },
  {
   "cell_type": "markdown",
   "metadata": {},
   "source": [
    "# Other datasets"
   ]
  },
  {
   "cell_type": "code",
   "execution_count": 19,
   "metadata": {},
   "outputs": [
    {
     "name": "stderr",
     "output_type": "stream",
     "text": [
      "Repo card metadata block was not found. Setting CardData to empty.\n",
      "/zhome/18/7/137746/miniconda3/envs/msc/lib/python3.11/site-packages/trl/trainer/sft_trainer.py:225: UserWarning: You didn't pass a `max_seq_length` argument to the SFTTrainer, this will default to 1024\n",
      "  warnings.warn(\n",
      "Detected kernel version 5.4.268, which is below the recommended minimum of 5.5.0; this can cause the process to hang. It is recommended to upgrade the kernel to the minimum version or higher.\n"
     ]
    }
   ],
   "source": [
    "from transformers import AutoModelForCausalLM, AutoTokenizer\n",
    "from datasets import load_dataset\n",
    "from trl import SFTTrainer, DataCollatorForCompletionOnlyLM  # Source: https://github.com/huggingface/trl/blob/14e0d788078be6406e580a2e8aa94cd451e5f909/trl/trainer/utils.py#L63\n",
    "\n",
    "dataset = load_dataset(\"timdettmers/openassistant-guanaco\", split=\"train\")\n",
    "\n",
    "model = AutoModelForCausalLM.from_pretrained(\"facebook/opt-125m\")\n",
    "tokenizer = AutoTokenizer.from_pretrained(\"facebook/opt-125m\")\n",
    "\n",
    "instruction_template = \"### Human:\"\n",
    "response_template = \"### Assistant:\"\n",
    "collator = DataCollatorForCompletionOnlyLM(instruction_template=instruction_template, response_template=response_template, tokenizer=tokenizer, mlm=False)\n",
    "    # DataCollatorForCompletionOnlyLM finds the instruction template (by looping through the tokens - as we could easily implement ourselves) and cuts. Then it cuts again after the assistant template.\n",
    "    # The cuts are, however, not made in the input_ids... Here the model is being given the answers too.... But the labels are set to -100 for everything until the answer begins, making the loss function ignore them...\n",
    "    # Hence it implements teacher forcing when trained....\n",
    "\n",
    "\n",
    "trainer = SFTTrainer(\n",
    "    model,\n",
    "    train_dataset=dataset,\n",
    "    dataset_text_field=\"text\",\n",
    "    data_collator=collator,\n",
    ")\n"
   ]
  },
  {
   "cell_type": "code",
   "execution_count": 21,
   "metadata": {},
   "outputs": [
    {
     "data": {
      "text/plain": [
       "'### Human: Can you write a short introduction about the relevance of the term \"monopsony\" in economics? Please use examples related to potential monopsonies in the labour market and cite relevant research.### Assistant: \"Monopsony\" refers to a market structure where there is only one buyer for a particular good or service. In economics, this term is particularly relevant in the labor market, where a monopsony employer has significant power over the wages and working conditions of their employees. The presence of a monopsony can result in lower wages and reduced employment opportunities for workers, as the employer has little incentive to increase wages or provide better working conditions.\\n\\nRecent research has identified potential monopsonies in industries such as retail and fast food, where a few large companies control a significant portion of the market (Bivens & Mishel, 2013). In these industries, workers often face low wages, limited benefits, and reduced bargaining power, leading to a situation where they are dependent on the employer for their livelihood. This dependence can result in further suppression of wages and a decline in working conditions.\\n\\nOverall, the concept of monopsony is essential to understanding the dynamics of labor markets and the impact of market power on workers. Further research is needed to understand the extent and impact of monopsonies on the economy and to develop policies to address this issue.\\n\\nReferences:\\nBivens, J., & Mishel, L. (2013). The Pay of Corporate Executives and Financial Professionals as Evidence of Rents in Top 1 Percent Incomes. Journal of Economic Perspectives, 27(3), 57-78.### Human: Now explain it to a dog'"
      ]
     },
     "execution_count": 21,
     "metadata": {},
     "output_type": "execute_result"
    }
   ],
   "source": [
    "dataset['text'][0]"
   ]
  },
  {
   "cell_type": "code",
   "execution_count": 93,
   "metadata": {},
   "outputs": [
    {
     "name": "stdout",
     "output_type": "stream",
     "text": [
      "</s>How do I get a ```PriorityQueue``` to sort on what I want it to sort on?\n",
      "Also, is there a difference between the ```offer``` and ```add``` methods?</s>## Java 8 solution\n",
      "We can use ```lambda expression``` or ```method reference``` introduced in Java 8. In case we have some String values stored in the Priority Queue (having capacity 5) we can provide inline comparator (based on length of String) : \n",
      "Using lambda expression\n",
      "```PriorityQueue pq=\n",
      "                    new PriorityQueue(5,(a,b) -> a.length() - b.length());\n",
      "```\n",
      "Using Method reference\n",
      "```PriorityQueue pq=\n",
      "                new PriorityQueue(5, Comparator.comparing(String::length));\n",
      "```\n",
      "Then we can use any of them as:\n",
      "```public static void main(String[] args) {\n",
      "        PriorityQueue pq=\n",
      "                new PriorityQueue(5, (a,b) -> a.length() - b.length());\n",
      "       // or pq = new PriorityQueue(5, Comparator.comparing(String::length));\n",
      "        pq.add(\"Apple\");\n",
      "        pq.add(\"PineApple\");\n",
      "        pq.add(\"Custard Apple\");\n",
      "        while (pq.size()!= 0)\n",
      "        {\n",
      "            System.out.println(pq.remove());\n",
      "        }\n",
      "    }\n",
      "```\n",
      "This will print:\n",
      "```Apple\n",
      "PineApple\n",
      "Custard Apple\n",
      "```\n",
      "To reverse the order (to change it to max-priority queue) simply change the order in inline comparator or use ```reversed``` as:\n",
      "```PriorityQueue pq = new PriorityQueue(5,\n",
      "                             Comparator.comparing(String::length).reversed());\n",
      "```\n",
      "We can also use ```Collections.reverseOrder```:\n",
      "```PriorityQueue pqInt = new PriorityQueue(10, Collections.reverseOrder());\n",
      "PriorityQueue pq = new PriorityQueue(5,\n",
      "                Collections.reverseOrder(Comparator.comparing(String::length))\n",
      "```\n",
      "So we can see that ```Collections.reverseOrder``` is overloaded to take comparator which can be useful for custom objects. The ```reversed``` actually uses ```Collections.reverseOrder```:\n",
      "```default Comparator reversed() {\n",
      "    return Collections.reverseOrder(this);\n",
      "}\n",
      "```\n",
      "offer() vs add()\n",
      "As per the doc \n",
      "\n",
      "  > The offer method inserts an element if possible, otherwise returning false. This differs from the Collection.add method, which can fail to add an element only by throwing an unchecked exception. The offer method is designed for use when failure is a normal, rather than exceptional occurrence, for example, in fixed-capacity (or \"bounded\") queues.\n",
      "\n",
      "When using a capacity-restricted queue, offer() is generally preferable to add(), which can fail to insert an element only by throwing an exception. And PriorityQueue is an unbounded priority queue based on a priority heap.</s><pad><pad><pad><pad><pad><pad><pad><pad><pad><pad><pad><pad><pad><pad><pad><pad><pad><pad><pad><pad><pad><pad><pad><pad><pad><pad><pad><pad><pad><pad><pad><pad><pad><pad><pad><pad><pad><pad><pad><pad><pad><pad><pad><pad><pad><pad><pad><pad><pad><pad><pad><pad><pad><pad><pad><pad><pad><pad><pad><pad><pad><pad><pad><pad><pad><pad><pad><pad><pad><pad><pad><pad><pad><pad><pad><pad><pad><pad><pad><pad><pad><pad><pad><pad><pad><pad><pad><pad><pad><pad><pad><pad><pad><pad><pad><pad><pad><pad><pad><pad><pad><pad><pad><pad><pad><pad><pad><pad><pad><pad><pad><pad><pad><pad><pad><pad><pad><pad><pad><pad><pad><pad><pad><pad><pad><pad><pad><pad><pad><pad><pad><pad><pad><pad><pad><pad><pad><pad><pad><pad><pad><pad><pad><pad><pad><pad><pad><pad><pad><pad><pad><pad><pad><pad><pad><pad><pad><pad><pad><pad><pad><pad><pad><pad><pad><pad><pad><pad><pad><pad><pad><pad><pad><pad><pad><pad><pad><pad><pad><pad><pad><pad><pad><pad><pad><pad><pad><pad><pad><pad>\n",
      "------\n",
      "</s>How do I get a ```PriorityQueue``` to sort on what I want it to sort on?\n",
      "Also, is there a difference between the ```offer``` and ```add``` methods?</s>## Java 8 solution\n",
      "We can use ```lambda expression``` or ```method reference``` introduced in Java 8. In case we have some String values stored in the Priority Queue (having capacity 5) we can provide inline comparator (based on length of String) : \n",
      "Using lambda expression\n",
      "```PriorityQueue pq=\n",
      "                    new PriorityQueue(5,(a,b) -> a.length() - b.length());\n",
      "```\n",
      "Using Method reference\n",
      "```PriorityQueue pq=\n",
      "                new PriorityQueue(5, Comparator.comparing(String::length));\n",
      "```\n",
      "Then we can use any of them as:\n",
      "```public static void main(String[] args) {\n",
      "        PriorityQueue pq=\n",
      "                new PriorityQueue(5, (a,b) -> a.length() - b.length());\n",
      "       // or pq = new PriorityQueue(5, Comparator.comparing(String::length));\n",
      "        pq.add(\"Apple\");\n",
      "        pq.add(\"PineApple\");\n",
      "        pq.add(\"Custard Apple\");\n",
      "        while (pq.size()!= 0)\n",
      "        {\n",
      "            System.out.println(pq.remove());\n",
      "        }\n",
      "    }\n",
      "```\n",
      "This will print:\n",
      "```Apple\n",
      "PineApple\n",
      "Custard Apple\n",
      "```\n",
      "To reverse the order (to change it to max-priority queue) simply change the order in inline comparator or use ```reversed``` as:\n",
      "```PriorityQueue pq = new PriorityQueue(5,\n",
      "                             Comparator.comparing(String::length).reversed());\n",
      "```\n",
      "We can also use ```Collections.reverseOrder```:\n",
      "```PriorityQueue pqInt = new PriorityQueue(10, Collections.reverseOrder());\n",
      "PriorityQueue pq = new PriorityQueue(5,\n",
      "                Collections.reverseOrder(Comparator.comparing(String::length))\n",
      "```\n",
      "So we can see that ```Collections.reverseOrder``` is overloaded to take comparator which can be useful for custom objects. The ```reversed``` actually uses ```Collections.reverseOrder```:\n",
      "```default Comparator reversed() {\n",
      "    return Collections.reverseOrder(this);\n",
      "}\n",
      "```\n",
      "offer() vs add()\n",
      "As per the doc \n",
      "\n",
      "  > The offer method inserts an element if possible, otherwise returning false. This differs from the Collection.add method, which can fail to add an element only by throwing an unchecked exception. The offer method is designed for use when failure is a normal, rather than exceptional occurrence, for example, in fixed-capacity (or \"bounded\") queues.\n",
      "\n",
      "When using a capacity-restricted queue, offer() is generally preferable to add(), which can fail to insert an element only by throwing an exception. And PriorityQueue is an unbounded priority queue based on a priority heap.</s><pad><pad><pad><pad><pad><pad><pad><pad><pad><pad><pad><pad><pad><pad><pad><pad><pad><pad><pad><pad><pad><pad><pad><pad><pad><pad><pad><pad><pad><pad><pad><pad><pad><pad><pad><pad><pad><pad><pad><pad><pad><pad><pad><pad><pad><pad><pad><pad><pad><pad><pad><pad><pad><pad><pad><pad><pad><pad><pad><pad><pad><pad><pad><pad><pad><pad><pad><pad><pad><pad><pad><pad><pad><pad><pad><pad><pad><pad><pad><pad><pad><pad><pad><pad><pad><pad><pad><pad><pad><pad><pad><pad><pad><pad><pad><pad><pad><pad><pad><pad><pad><pad><pad><pad><pad><pad><pad><pad><pad><pad><pad><pad><pad><pad><pad><pad><pad><pad><pad><pad><pad><pad><pad><pad><pad><pad><pad><pad><pad><pad><pad><pad><pad><pad><pad><pad><pad><pad><pad><pad><pad><pad><pad><pad><pad><pad><pad><pad><pad><pad><pad><pad><pad><pad><pad><pad><pad><pad><pad><pad><pad><pad><pad><pad><pad><pad><pad><pad><pad><pad><pad><pad><pad><pad><pad><pad><pad><pad><pad><pad><pad><pad><pad><pad><pad><pad><pad><pad><pad><pad>\n"
     ]
    }
   ],
   "source": [
    "dl = trainer.get_train_dataloader()\n",
    "i=0\n",
    "example = next(iter(dl))\n",
    "tokens = example[\"input_ids\"][i]\n",
    "mask = example[\"attention_mask\"][i]\n",
    "print(trainer.tokenizer.decode(token_ids=tokens, mask=mask))\n",
    "print(\"------\")\n",
    "print(trainer.tokenizer.decode(token_ids=tokens))"
   ]
  },
  {
   "cell_type": "code",
   "execution_count": 94,
   "metadata": {},
   "outputs": [
    {
     "data": {
      "text/plain": [
       "{'input_ids': tensor([[   2, 6179,  109,  ...,    1,    1,    1],\n",
       "        [   2, 7608,   16,  ...,    1,    1,    1],\n",
       "        [   2, 2264,   32,  ...,    1,    1,    1],\n",
       "        ...,\n",
       "        [   2,  281,   10,  ...,    1,    1,    1],\n",
       "        [   2, 7608,   16,  ...,    1,    1,    1],\n",
       "        [   2, 1779,   74,  ...,    1,    1,    1]]), 'attention_mask': tensor([[1, 1, 1,  ..., 0, 0, 0],\n",
       "        [1, 1, 1,  ..., 0, 0, 0],\n",
       "        [1, 1, 1,  ..., 0, 0, 0],\n",
       "        ...,\n",
       "        [1, 1, 1,  ..., 0, 0, 0],\n",
       "        [1, 1, 1,  ..., 0, 0, 0],\n",
       "        [1, 1, 1,  ..., 0, 0, 0]]), 'labels': tensor([[   2, 6179,  109,  ..., -100, -100, -100],\n",
       "        [   2, 7608,   16,  ..., -100, -100, -100],\n",
       "        [   2, 2264,   32,  ..., -100, -100, -100],\n",
       "        ...,\n",
       "        [   2,  281,   10,  ..., -100, -100, -100],\n",
       "        [   2, 7608,   16,  ..., -100, -100, -100],\n",
       "        [   2, 1779,   74,  ..., -100, -100, -100]])}"
      ]
     },
     "execution_count": 94,
     "metadata": {},
     "output_type": "execute_result"
    }
   ],
   "source": [
    "example"
   ]
  },
  {
   "cell_type": "code",
   "execution_count": 68,
   "metadata": {},
   "outputs": [
    {
     "name": "stdout",
     "output_type": "stream",
     "text": [
      "</s>### Human: 回答集编程和Prolog有什么联系和区别？### Assistant: 回答集编程（Answer Set Programming，ASP）和Prolog是两种逻辑编程语言，它们之间的联系和区别如下：\n",
      "\n",
      "联系：\n",
      "1. ASP和Prolog都使用规则和查询来表示和解决问题。\n",
      "2. ASP和Prolog都支持递归和模式匹配。\n",
      "3. ASP和Prolog都可以被用来表示和解决复杂的逻辑和知识表达式。\n",
      "\n",
      "区别：\n",
      "1. ASP的语法更接近于一种自然语言，而Prolog的语法更接近于一种函数式编程语言。\n",
      "2. ASP和Prolog的语义不同。ASP使用基于稳定模型（stable model）的语义来定义规则的解释，而Prolog使用基于霍恩子句（Horn clause）的语义来定义规则的解释。\n",
      "3. ASP和Prolog的应用领域不同。ASP通常用于复杂知识的表示和解决，如自然语言处理、图形学等领域，而Prolog通常用于人工智能、专家系统等领域。### Human: 看来prolog也是挺强大的。为什么它现在不火呢？请试着给出几个原因。### Assistant: Prolog在当今编程语言市场上的影响力不如一些其他语言，可能是由于以下几个原因：\n",
      "\n",
      "1. **学习曲线较陡峭**\n",
      "Prolog语法和概念与传统的命令式编程语言非常不同，这使得初学者在学习过程中可能会遇到一些挑战。在传统的命令式编程语言中，程序员需要考虑如何控制程序的流程以及如何处理数据。而在Prolog中，程序员需要思考如何描述问题和约束条\n"
     ]
    }
   ],
   "source": [
    "print(trainer.tokenizer.decode(token_ids=trainer.data_collator.torch_call([tokens])['input_ids'][0]))"
   ]
  },
  {
   "cell_type": "code",
   "execution_count": 74,
   "metadata": {},
   "outputs": [
    {
     "data": {
      "text/plain": [
       "' 回答集编程（Answer Set Programming，ASP）和Prolog是两种逻辑编程语言，它们之间的联系和区别如下：\\n\\n联系：\\n1. ASP和Prolog都使用规则和查询来表示和解决问题。\\n2. ASP和Prolog都支持递归和模式匹配。\\n3. ASP和Prolog都可以被用来表示和解决复杂的逻辑和知识表达式。\\n\\n区别：\\n1. ASP的语法更接近于一种自然语言，而Prolog的语法更接近于一种函数式编程语言。\\n2. ASP和Prolog的语义不同。ASP使用基于稳定模型（stable model）的语义来定义规则的解释，而Prolog使用基于霍恩子句（Horn clause）的语义来定义规则的解释。\\n3. ASP和Prolog的应用领域不同。ASP通常用于复杂知识的表示和解决，如自然语言处理、图形学等领域，而Prolog通常用于人工智能、专家系统等领域。 Prolog在当今编程语言市场上的影响力不如一些其他语言，可能是由于以下几个原因：\\n\\n1. **学习曲线较陡峭**\\nProlog语法和概念与传统的命令式编程语言非常不同，这使得初学者在学习过程中可能会遇到一些挑战。在传统的命令式编程语言中，程序员需要考虑如何控制程序的流程以及如何处理数据。而在Prolog中，程序员需要思考如何描述问题和约束条'"
      ]
     },
     "execution_count": 74,
     "metadata": {},
     "output_type": "execute_result"
    }
   ],
   "source": [
    "labels = trainer.data_collator.torch_call([tokens])['labels']\n",
    "trainer.tokenizer.decode(token_ids=labels[labels!=-100])"
   ]
  },
  {
   "cell_type": "code",
   "execution_count": 73,
   "metadata": {},
   "outputs": [
    {
     "name": "stdout",
     "output_type": "stream",
     "text": [
      "tensor([[False, False, False,  ...,  True,  True,  True]])\n"
     ]
    }
   ],
   "source": []
  },
  {
   "cell_type": "code",
   "execution_count": null,
   "metadata": {},
   "outputs": [],
   "source": []
  }
 ],
 "metadata": {
  "kernelspec": {
   "display_name": "msc",
   "language": "python",
   "name": "python3"
  },
  "language_info": {
   "codemirror_mode": {
    "name": "ipython",
    "version": 3
   },
   "file_extension": ".py",
   "mimetype": "text/x-python",
   "name": "python",
   "nbconvert_exporter": "python",
   "pygments_lexer": "ipython3",
   "version": "3.11.4"
  }
 },
 "nbformat": 4,
 "nbformat_minor": 2
}
